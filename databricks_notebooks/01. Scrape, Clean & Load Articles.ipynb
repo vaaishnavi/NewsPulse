{
 "cells": [
  {
   "cell_type": "code",
   "execution_count": null,
   "metadata": {
    "application/vnd.databricks.v1+cell": {
     "cellMetadata": {},
     "inputWidgets": {},
     "nuid": "d8cb401d-ba90-4291-ba45-cd5bf945ed81",
     "showTitle": false,
     "title": ""
    }
   },
   "outputs": [],
   "source": [
    "%pip install databricks-genai-inference scrapegraphai pandas nest_asyncio playwright\n",
    "dbutils.library.restartPython()"
   ]
  },
  {
   "cell_type": "code",
   "execution_count": null,
   "metadata": {
    "application/vnd.databricks.v1+cell": {
     "cellMetadata": {},
     "inputWidgets": {},
     "nuid": "b36285c4-bf66-45c4-8a24-7189c209736c",
     "showTitle": false,
     "title": ""
    }
   },
   "outputs": [],
   "source": [
    "!playwright install\n",
    "!playwright install-deps"
   ]
  },
  {
   "cell_type": "code",
   "execution_count": null,
   "metadata": {
    "application/vnd.databricks.v1+cell": {
     "cellMetadata": {
      "byteLimit": 2048000,
      "rowLimit": 10000
     },
     "inputWidgets": {},
     "nuid": "7b86b195-5688-488e-947a-c542ed820de8",
     "showTitle": false,
     "title": ""
    }
   },
   "outputs": [
    {
     "name": "stdout",
     "output_type": "stream",
     "text": [
      "+---------+---------+-------+\n",
      "| col_name|data_type|comment|\n",
      "+---------+---------+-------+\n",
      "|  user_id|      int|   NULL|\n",
      "| username|   string|   NULL|\n",
      "| password|   string|   NULL|\n",
      "|watchlist|   string|   NULL|\n",
      "+---------+---------+-------+\n",
      "\n"
     ]
    }
   ],
   "source": [
    "# 1. Define the schema\n",
    "schema = \"hackathon_schema\"\n",
    "\n",
    "# 2. Create the schema\n",
    "create_schema_query = f\"CREATE SCHEMA IF NOT EXISTS {schema}\"\n",
    "spark.sql(create_schema_query)\n",
    "\n",
    "# 3. Define the table name\n",
    "table_name = \"users\"\n",
    "\n",
    "# 4. Create the table with the specified columns\n",
    "create_table_query = f\"\"\"\n",
    "CREATE TABLE IF NOT EXISTS {schema}.{table_name} (\n",
    "    user_id INT,\n",
    "    username STRING,\n",
    "    password STRING,\n",
    "    watchlist STRING\n",
    ")\n",
    "\"\"\"\n",
    "\n",
    "# Execute the query\n",
    "spark.sql(create_table_query)\n",
    "\n",
    "# 5. Verify the table\n",
    "verify_query = f\"DESCRIBE TABLE {schema}.{table_name}\"\n",
    "result = spark.sql(verify_query)\n",
    "result.show()\n"
   ]
  },
  {
   "cell_type": "code",
   "execution_count": null,
   "metadata": {
    "application/vnd.databricks.v1+cell": {
     "cellMetadata": {
      "byteLimit": 2048000,
      "rowLimit": 10000
     },
     "inputWidgets": {},
     "nuid": "8424e6bd-a23d-4859-9660-a3207bb1c46c",
     "showTitle": false,
     "title": ""
    }
   },
   "outputs": [
    {
     "data": {
      "text/plain": [
       "DataFrame[num_affected_rows: bigint, num_inserted_rows: bigint]"
      ]
     },
     "execution_count": 12,
     "metadata": {},
     "output_type": "execute_result"
    }
   ],
   "source": [
    "# Sample data to insert\n",
    "# user_id = 1\n",
    "# username = \"elon\"\n",
    "# password = \"admin123\"\n",
    "# watchlist = \"Tesla\"\n",
    "\n",
    "# # Insert the data\n",
    "# insert_query = f\"\"\"\n",
    "# INSERT INTO hackathon_schema.users (user_id, username, password, watchlist)\n",
    "# VALUES ({user_id}, '{username}', '{password}', '{watchlist}')\n",
    "# \"\"\"\n",
    "# spark.sql(insert_query)"
   ]
  },
  {
   "cell_type": "code",
   "execution_count": null,
   "metadata": {
    "application/vnd.databricks.v1+cell": {
     "cellMetadata": {
      "byteLimit": 2048000,
      "rowLimit": 10000
     },
     "inputWidgets": {},
     "nuid": "bf36bd95-dd48-4423-a117-9d790e4e3313",
     "showTitle": false,
     "title": ""
    }
   },
   "outputs": [
    {
     "name": "stdout",
     "output_type": "stream",
     "text": [
      "+-------+--------+--------+---------+\n",
      "|user_id|username|password|watchlist|\n",
      "+-------+--------+--------+---------+\n",
      "|      1|    elon|admin123|    Tesla|\n",
      "+-------+--------+--------+---------+\n",
      "\n"
     ]
    }
   ],
   "source": [
    "# Verify the insertion\n",
    "result = spark.sql(\"SELECT * FROM hackathon_schema.users\")\n",
    "result.show()"
   ]
  },
  {
   "cell_type": "markdown",
   "metadata": {
    "application/vnd.databricks.v1+cell": {
     "cellMetadata": {},
     "inputWidgets": {},
     "nuid": "e61a9212-1113-4bef-8c35-025778c57e9c",
     "showTitle": false,
     "title": ""
    }
   },
   "source": [
    "Get news articles from DuckDuckGo"
   ]
  },
  {
   "cell_type": "code",
   "execution_count": null,
   "metadata": {
    "application/vnd.databricks.v1+cell": {
     "cellMetadata": {
      "byteLimit": 2048000,
      "rowLimit": 10000
     },
     "inputWidgets": {},
     "nuid": "32745268-cd50-4dea-b863-d29f50691a73",
     "showTitle": false,
     "title": ""
    }
   },
   "outputs": [
    {
     "name": "stdout",
     "output_type": "stream",
     "text": [
      "Tesla\n"
     ]
    }
   ],
   "source": [
    "query = \"\"\"\n",
    "SELECT watchlist\n",
    "FROM hackathon_schema.users\n",
    "Limit 1\n",
    "\"\"\"\n",
    "result = spark.sql(query).collect()\n",
    "\n",
    "company = result[0]['watchlist']\n",
    "print(company)"
   ]
  },
  {
   "cell_type": "code",
   "execution_count": null,
   "metadata": {
    "application/vnd.databricks.v1+cell": {
     "cellMetadata": {
      "byteLimit": 2048000,
      "rowLimit": 10000
     },
     "inputWidgets": {},
     "nuid": "e608cb39-9e32-4b88-be16-c78dbf344b52",
     "showTitle": false,
     "title": ""
    }
   },
   "outputs": [
    {
     "name": "stdout",
     "output_type": "stream",
     "text": [
      "{'status': 200, 'message': 'OK', 'data': [{'date': 1714951037, 'excerpt': '<b>Tesla\\'s</b> Cybertruck doesn\\'t appear as \"apocalypse-proof\" as suggested, with the $60,000+ vehicle getting stuck in rough terrain and facing recalls.', 'image': 'https://i.insider.com/663527e00dfb1341e9027b5b?width=1200&format=jpeg', 'relativeTime': '10 hours ago', 'syndicate': 'Bing', 'title': \"Tesla's 'apocalypse-proof' Cybertruck thwarted by sand, snow, and regulator recalls\", 'url': 'https://www.msn.com/en-us/news/technology/teslas-apocalypse-proof-cybertruck-thwarted-by-sand-snow-and-regulator-recalls/ar-BB1lS6Ig', 'isOld': False}, {'date': 1714912200, 'excerpt': 'As Elon Musk ditches plans for a $25,000 <b>Tesla</b>, meet a truly affordable EV: the Zhidou Rainbow. It costs less than an ebike and is capable of completing the average US daily commute with charge to spare.', 'image': 'https://media.wired.com/photos/6635676744feaf4b1663c08a/191:100/w_1280,c_limit/Zhidou-Rainbow-2.jpg', 'relativeTime': '20 hours ago', 'syndicate': 'Bing', 'title': 'As Elon Musk Abandons the $25K Tesla, This EV Costs Just $4,400', 'url': 'https://www.wired.com/story/zhidou-rainbow-ev-costs-just-dollar4400/', 'isOld': False}, {'date': 1714934520, 'excerpt': '<b>Tesla</b> is not giving any ground on Model Y leases in May while keeping the price competitive, despite extending the range of its lowest-priced variant.', 'image': 'https://imageio.forbes.com/specials-images/imageserve/6637d11301fcd335c17d8435/0x0.jpg?format=jpg&height=900&width=1600&fit=bounds', 'relativeTime': '14 hours ago', 'syndicate': 'Bing', 'title': 'Longer-Range Tesla Model Y Debuts, Keeps Competitive Price, Lease', 'url': 'https://www.forbes.com/sites/brookecrothers/2024/05/05/longer-range-tesla-model-y-keeps-competitive-price-lease/', 'isOld': False}, {'date': 1714899600, 'excerpt': \"Like many Western automakers, <b>Tesla</b> is dealing with a slew of tough rivals in the world's largest auto market.\", 'image': 'https://img-s-msn-com.akamaized.net/tenant/amp/entityid/BB1lQqc1.img?w=800&h=450&m=4&q=75', 'relativeTime': '1 day ago', 'syndicate': 'Bing', 'title': 'Tesla is facing major competition in China. Here are its biggest rivals', 'url': 'https://www.msn.com/en-us/autos/news/tesla-is-facing-major-competition-in-china-here-are-its-biggest-rivals/ar-BB1lQEnl', 'isOld': False}, {'date': 1714921980, 'excerpt': \"Elon Musk became the butt of more than a few jokes after internet users pointed out <b>Tesla's</b> robot demo wasn't all it appeared to be. As it turns out, a video the billionaire posted of Optimus, the company's much-hyped humanoid robot,\", 'image': 'https://img-s-msn-com.akamaized.net/tenant/amp/entityid/AA1o89u2.img?w=800&h=450&m=4&q=100', 'relativeTime': '18 hours ago', 'syndicate': 'Bing', 'title': \"Tesla's Optimus video fub is leading other robot makers to add teleoperation disclaimers\", 'url': 'https://www.msn.com/en-us/news/technology/tesla-s-optimus-video-fub-is-leading-other-robot-makers-to-add-teleoperation-disclaimers/ar-BB1lRivU', 'isOld': False}, {'date': 1714940280, 'excerpt': '<b>Tesla</b> replaced the Standard Range Model Y with a 320-mile range version for $2,000 more. The car now starts at $44,990, or about $37,490 if you qualify for the $7,500 federal EV tax credit.', 'image': 'https://cdn.vox-cdn.com/thumbor/X2DANKoTUBA3fOkAbSgv1-uG-j0=/0x0:2135x1184/1200x628/filters:focal(1068x592:1069x593)/cdn.vox-cdn.com/uploads/chorus_asset/file/25434354/Screenshot_2024_05_05_at_10.54.59_AM.png', 'relativeTime': '13 hours ago', 'syndicate': 'Bing', 'title': 'Tesla plans to charge some Model Y owners to unlock more range', 'url': 'https://www.msn.com/en-us/money/other/tesla-plans-to-charge-some-model-y-owners-to-unlock-more-range/ar-BB1lRkVH', 'isOld': False}, {'date': 1714935600, 'excerpt': 'TechCrunch Mobility is moving to Thursdays! Sign up here for free — just click TechCrunch Mobility! EV startup Fisker laid off more employees to \"preserve cash\" as bankruptcy inches ever closer; ride-hailing company Ola cut about 180 jobs and ousted its chief executive,', 'image': 'https://s.yimg.com/ny/api/res/1.2/GaAwvkdAdXOa9cIUteDuqw--/YXBwaWQ9aGlnaGxhbmRlcjt3PTEyMDA7aD02NzU-/https://media.zenfs.com/en/techcrunch_350/ca5598dcdc078acb160f19b32b55afba', 'relativeTime': '14 hours ago', 'syndicate': 'Bing', 'title': 'Hyundai antes up $1B for AV startup Motional and Elon unplugs the Tesla Supercharger team', 'url': 'https://news.yahoo.com/hyundai-antes-1b-av-startup-190054635.html', 'isOld': False}, {'date': 1714869496, 'excerpt': \"<b>Teslas</b> would hesitate while making left turns on two-way streets in San Francisco's Sunset District, a former <b>Tesla</b> employee told The Information.\", 'image': 'https://i.insider.com/6636ae930dfb1341e902aa5d?width=1200&format=jpeg', 'relativeTime': '1 day ago', 'syndicate': 'Bing', 'title': \"These are the kinds of San Francisco roads Tesla's FSD had a hard time dealing with, report says\", 'url': 'https://www.msn.com/en-us/money/other/these-are-the-kinds-of-san-francisco-roads-teslas-fsd-had-a-hard-time-dealing-with-report-says/ar-BB1lPTFp', 'isOld': False}, {'date': 1714849228, 'excerpt': \"The news this week that <b>Tesla</b> CEO Elon Musk had laid off the company's entire Supercharger team sent shockwaves of uncertainty through the industry tasked with building out a new national network of EV chargers.\", 'image': 'https://media.cnn.com/api/v1/images/stellar/prod/gettyimages-2151153842.jpg?c=16x9&q=w_800,c_fill', 'relativeTime': '2 days ago', 'syndicate': 'Bing', 'title': \"Musk just slashed Tesla's Supercharger team. What does that mean for America's EV network?\", 'url': 'https://www.msn.com/en-us/news/technology/musk-just-slashed-tesla-s-supercharger-team-what-does-that-mean-for-america-s-ev-network/ar-AA1o8WlG', 'isOld': False}, {'date': 1714750440, 'excerpt': 'Except now, there is no team. Posting on his social media network X this week, Musk wrote: \"<b>Tesla</b> still plans to grow the Supercharger network, just at a slower pace for new locations and more focus on 100% uptime and expansion of existing locations.\"', 'image': 'https://img-cdn.inc.com/image/upload/w_1024,h_576,c_fill/images/panoramic/tesla-supercharger-layoffs-inc-1318647420_540340_t7bdh0.jpg', 'relativeTime': '3 days ago', 'syndicate': 'Bing', 'title': \"Is Musk Crazy Smart for Axing Tesla's Supercharger Team? Or Just ...\", 'url': 'https://www.msn.com/en-us/autos/other/is-musk-crazy-smart-for-axing-tesla-s-supercharger-team-or-just/ar-AA1o8E9s', 'isOld': False}, {'date': 1714759800, 'excerpt': 'The EV maker has agreed a deal over driving technology with a leading Chinese internet company just as Washington is on edge about data security', 'image': 'https://www.ft.com/__origami/service/image/v2/images/raw/https%3A%2F%2Fwww.ft.com%2F__origami%2Fservice%2Fimage%2Fv2%2Fimages%2Fraw%2Fhttps%253A%252F%252Fd1e00ek4ebabms.cloudfront.net%252Fproduction%252Fccc33dff-2844-4893-b161-4da649020cfa.jpg%3Fsource%3Dnext-article%26fit%3Dscale-down%26quality%3Dhighest%26width%3D700%26dpr%3D1?source=next-opengraph&fit=scale-down&width=900', 'relativeTime': '3 days ago', 'syndicate': 'Bing', 'title': \"Can Elon Musk's Tesla keep straddling the US and China?\", 'url': 'https://www.ft.com/content/a62e48c9-27ac-4689-91d1-dc7ffbc49778?shareType=nongift', 'isOld': False}, {'date': 1714795140, 'excerpt': 'Quite honestly I just didn\\'t expect that <b>Tesla</b> would be doing so badly where they would need to cut all their interns.\"', 'image': 'https://img.thedailybeast.com/image/upload/c_crop,d_placeholder_euli9k,h_2685,w_4773,x_184,y_0/dpr_2.0/c_limit,w_740/fl_lossy,q_auto/v1714783841/2024-04-26T102511Z_760980285_RC2YU6AXLBAJ_RTRMADP_3_TESLA-AUTOPILOT-INVESTIGATION_ynwciq', 'relativeTime': '2 days ago', 'syndicate': 'Bing', 'title': \"'I'm Still in Denial': Tesla Layoffs Leave Interns High and Dry\", 'url': 'https://www.thedailybeast.com/im-still-in-denial-tesla-layoffs-leave-interns-high-and-dry', 'isOld': False}, {'date': 1714770493, 'excerpt': 'Since then, <b>Tesla</b> has launched four more models, including the Model X SUV, the \"affordable\" Model 3 and Model Y, and the Cybertruck.', 'image': 'https://ichef.bbci.co.uk/news/1024/branded_news/12864/production/_133267857_tesla-gettyimages-1494887228.jpg', 'relativeTime': '2 days ago', 'syndicate': 'Bing', 'title': 'Have the wheels come off for Tesla?', 'url': 'https://www.msn.com/en-us/news/technology/have-the-wheels-come-off-for-tesla/ar-AA1o6IJQ', 'isOld': False}, {'date': 1714892760, 'excerpt': \"<b>Tesla</b> is offering curiously cheap leases on its Model 3, creating in effect a low-cost car that's available now. Is the lease too good?\", 'image': 'https://imageio.forbes.com/specials-images/imageserve/66371da597cb0abf45191cc1/0x0.jpg?format=jpg&height=900&width=1600&fit=bounds', 'relativeTime': '1 day ago', 'syndicate': 'Bing', 'title': \"$299 Tesla Model 3 'Too Good' Lease Makes It Competitive With Honda Civic Despite Lower Price\", 'url': 'https://www.forbes.com/sites/brookecrothers/2024/05/05/299-tesla-model-3-too-good-lease-makes-it-competitive-with-honda-civic-despite-lower-price/', 'isOld': False}, {'date': 1714843800, 'excerpt': \"<b>Tesla</b> is pushing to legalise its self-driving system in the UK and Europe, launching a charm offensive with regulators as Elon Musk bets the carmaker's future on autonomous driving.\", 'image': 'https://s.yimg.com/ny/api/res/1.2/n4rcGaZrk.wtnQ_8U52ofg--/YXBwaWQ9aGlnaGxhbmRlcjt3PTEyMDA7aD03NTI-/https://media.zenfs.com/en/the_telegraph_258/ac27364f322579afe580f7b635dea948', 'relativeTime': '2 days ago', 'syndicate': 'Bing', 'title': 'Tesla pushes to legalise driverless cars in UK', 'url': 'https://www.msn.com/en-gb/cars/news/tesla-pushes-to-legalise-driverless-cars-in-uk/ar-AA1o8OKy', 'isOld': False}, {'date': 1714772460, 'excerpt': \"According to a former employee who spoke to The Washington Post, Tinucci met with Musk privately before the layoffs to express her opposition to the magnitude of the layoffs. Now with Tinucci out, along with most of the Supercharger team, <b>Tesla's</b> big lead is at risk.\", 'image': 'https://cdn.vox-cdn.com/thumbor/V4D-NUmyEqrLYWH1x9j61Sk75oU=/0x0:2040x1360/1200x628/filters:focal(1020x680:1021x681)/cdn.vox-cdn.com/uploads/chorus_asset/file/23382326/VRG_Illo_STK022_K_Radtke_Musk_Tesla.jpg', 'relativeTime': '2 days ago', 'syndicate': 'Bing', 'title': \"Tesla's Supercharger layoffs couldn't have come at a worse time\", 'url': 'https://www.msn.com/en-us/autos/news/tesla-s-supercharger-layoffs-couldn-t-have-come-at-a-worse-time/ar-AA1o6uYb', 'isOld': False}, {'date': 1714743180, 'excerpt': '<b>Tesla</b> is also already pulling back on Supercharger sites. Inside EVs learned that at least four planned sites in New York City are off, though Musk did post to his followers to say that <b>Tesla</b> will still grow the network \"at a slower pace\" and with more focus on uptime.', 'image': 'https://cdn.arstechnica.net/wp-content/uploads/2024/05/tesla-musk-coin-800x450.jpg', 'relativeTime': '3 days ago', 'syndicate': 'Bing', 'title': \"What's happening at Tesla? Here's what experts think.\", 'url': 'https://arstechnica.com/cars/2024/05/chaos-at-tesla-what-analysts-think-about-elon-musks-cuts-and-layoffs/', 'isOld': False}, {'date': 1714820400, 'excerpt': \"Critics say federal regulators are struggling to keep pace with risks introduced on American highways by <b>Tesla's</b> self-driving system.\", 'image': 'https://www.washingtonpost.com/wp-apps/imrs.php?src=https://arc-anglerfish-washpost-prod-washpost.s3.amazonaws.com/public/2ZYXFLTDCBDXJDEM3SVT5LSQ7Q.jpg&w=1440', 'relativeTime': '2 days ago', 'syndicate': 'Bing', 'title': \"How U.S. safety regulators have struggled to get a grip on Tesla's Autopilot\", 'url': 'https://www.msn.com/en-us/news/us/how-us-safety-regulators-have-struggled-to-get-a-grip-on-tesla-s-autopilot/ar-AA1o8bDd', 'isOld': False}, {'date': 1714778903, 'excerpt': 'The wife of the man who drove his family off a cliff testified Thursday, saying he should be released from jail into a mental health program and calling him \"kind and altruistic.\"', 'image': 'https://ca-times.brightspotcdn.com/dims4/default/95bd9f8/2147483647/strip/true/crop/1097x576+91+0/resize/1200x630!/quality/75/?url=https%3A%2F%2Fcalifornia-times-brightspot.s3.amazonaws.com%2Fe0%2F33%2F7a0cd9660788268e6d5300ca34b0%2F6b2d48cdc7f34e1da8100ca9ad698e81', 'relativeTime': '2 days ago', 'syndicate': 'Bing', 'title': 'He drove his family off a cliff in a Tesla. Now his wife wants him freed', 'url': 'https://www.msn.com/en-us/news/crime/he-drove-his-family-off-a-cliff-in-a-tesla-now-his-wife-wants-him-freed/ar-AA1o72QT', 'isOld': False}, {'date': 1714659900, 'excerpt': \"Elon Musk's move to lay off the department responsible for <b>Tesla's</b> electric vehicle chargers has touched off worries in the auto industry that EVs from other automakers will have trouble joining <b>Tesla</b>\", 'image': 'https://i.abcnewsfe.com/a/1156e7de-4059-4fa9-81c8-248e82b85e80/wirestory_259a58c01c38a2edec3680d9755d12ed_16x9.jpg?w=1600', 'relativeTime': '4 days ago', 'syndicate': 'Bing', 'title': \"Elimination of Tesla's charging department raises worries\", 'url': 'https://www.msn.com/en-us/autos/news/elimination-of-teslas-charging-department-raises-worries-as-evs-from-other-automakers-join-network/ar-AA1nZzkv', 'isOld': False}, {'date': 1714592400, 'excerpt': \"Elon Musk shared the stage at <b>Tesla's</b> investor day in Texas with 16 executives who gave detailed presentations on the company's technology and growth plans, then lined up behind their boss in a show of solidarity.\", 'image': 'https://www.reuters.com/resizer/v2/NTHTVGM7IBIVXHZK4QJK7TPGXI.jpg?auth=2096e261d3acefad173005884008ec5b05c879e63212423950d0f3bf23b54063&height=1005&width=1920&quality=80&smart=true', 'relativeTime': '5 days ago', 'syndicate': 'Bing', 'title': \"Elon Musk's Tesla overhaul hits executive bench he touted\", 'url': 'https://www.reuters.com/business/autos-transportation/teslas-restructuring-hits-executive-bench-hailed-by-elon-musk-2024-05-01/', 'isOld': False}, {'date': 1714813440, 'excerpt': \"The automaker led by Elon Musk is no longer planning to take the lead in expanding the number of places to fuel electric vehicles. It's not clear how quickly other companies will fill the gap.\", 'relativeTime': '2 days ago', 'syndicate': 'Bing', 'title': 'Tesla Pullback Puts Onus on Others to Build Electric Vehicle Chargers', 'url': 'https://www.nytimes.com/2024/05/04/business/energy-environment/tesla-electric-vehicles-supercharger.html', 'isOld': False}, {'date': 1714836000, 'excerpt': 'Many bears view <b>Tesla</b> as no more than an overvalued auto manufacturer, but the company is making notable strides across green energy and artificial intelligence (AI).', 'relativeTime': '2 days ago', 'syndicate': 'Bing', 'title': 'Is Tesla Just a Car Company?', 'url': 'https://www.msn.com/en-us/money/companies/is-tesla-just-a-car-company/ar-AA1o8BUX', 'isOld': False}, {'date': 1714762080, 'excerpt': \"<b>Tesla's</b> abrupt decision to lay off its electric-vehicle charging team and reduce its investments in public charging is a blow to the U.S. network, which has long relied on Elon Musk to build the bulk of the country's fast chargers.\", 'relativeTime': '3 days ago', 'syndicate': 'Bing', 'title': 'Tesla retreat from EV charging leaves growth of U.S. network in doubt', 'url': 'https://www.msn.com/en-us/money/other/tesla-retreat-from-ev-charging-leaves-growth-of-u-s-network-in-doubt/ar-AA1o64CD', 'isOld': False}, {'date': 1714666140, 'excerpt': '<b>Tesla</b> convinced the entire auto industry that it had fixed the EV charging problem. Now growth of its Supercharger network is unclear.', 'image': 'https://s.yimg.com/ny/api/res/1.2/p35aOupjupZCrgTpulNGug--/YXBwaWQ9aGlnaGxhbmRlcjt3PTEyMDA7aD05MDA-/https://media.zenfs.com/en/business_insider_articles_888/88da8367be634958ecfeb136e3f989b0', 'relativeTime': '4 days ago', 'syndicate': 'Bing', 'title': 'Tesla tells the EV industry: Fend for yourselves', 'url': 'https://www.yahoo.com/news/autos/tesla-tells-ev-industry-fend-143130864.html', 'isOld': False}, {'date': 1714783310, 'excerpt': \"Elon Musk's <b>Tesla</b>, Inc., has sued an India company called <b>Tesla</b> Power India in the Delhi High Court, alleging copyright infringement.\", 'image': 'https://a57.foxnews.com/static.foxbusiness.com/foxbusiness.com/content/uploads/2024/05/0/0/elon-musk-5.jpg?ve=1&tl=1', 'relativeTime': '2 days ago', 'syndicate': 'Bing', 'title': 'Elon Musk sues Indian battery company Tesla Power for trademark infringement', 'url': 'https://www.msn.com/en-us/money/technology/elon-musk-sues-indian-battery-company-tesla-power-for-trademark-infringement/ar-AA1o7dhy', 'isOld': False}, {'date': 1714757700, 'excerpt': \"There won't be any Academy Award nominations for this court case in Delhi, where the EV maker is suing an Indian battery maker for using its trademark.\", 'relativeTime': '3 days ago', 'syndicate': 'Bing', 'title': 'Tesla v. Tesla?', 'url': 'https://www.inc.com/reuters/tesla-v-tesla.html', 'isOld': False}, {'date': 1714435200, 'excerpt': 'By Jack Ewing Elon Musk has gutted the part of <b>Tesla</b> responsible for building electric vehicle charging stations, sowing uncertainty about the future of the largest and most reliable U.S. charging ...', 'relativeTime': '6 days ago', 'syndicate': 'Bing', 'title': 'Tesla Fires Many on Charger Team, Raising Doubts About Expansion', 'url': 'https://www.nytimes.com/2024/04/30/business/tesla-layoffs-supercharger-team.html', 'isOld': False}, {'date': 1714667160, 'excerpt': 'Layoffs and resignations are rattling all levels of positions at <b>Tesla</b>. In an email on Monday (April 29), first reported by the Information, Musk announced that two senior <b>Tesla</b> executives —Rebecca Tinucci, senior director for charging infrastructure ...', 'image': 'https://observer.com/wp-content/uploads/sites/2/2024/05/GettyImages-2148557371-e1714676579947.jpg?quality=80', 'relativeTime': '4 days ago', 'syndicate': 'Bing', 'title': \"Elon Musk's Tesla Turnaround Plan, Explained\", 'url': 'https://observer.com/2024/05/elon-musk-tesla-turnaround-plan/', 'isOld': False}, {'date': 1714784400, 'excerpt': \"The CEO is shifting the EV maker's strategy and suggesting that he could take his ideas on AI elsewhere.\", 'image': 'https://images.wsj.net/im-956313/social', 'relativeTime': '2 days ago', 'syndicate': 'Bing', 'title': 'Elon Musk Tries to Make Himself Indispensable at Tesla Ahead of Pay Vote', 'url': 'https://www.msn.com/en-us/news/other/elon-musk-tries-to-make-himself-indispensable-at-tesla-ahead-of-pay-vote/ar-AA1o7fFV', 'isOld': False}]}\n"
     ]
    }
   ],
   "source": [
    "import requests\n",
    "\n",
    "url = \"https://duckduckgo10.p.rapidapi.com/search/news\"\n",
    "\n",
    "# call API to get the news on a company from the watchlist of users table\n",
    "querystring = {\"safeSearch\":\"off\",\"term\":company.lower(),\"region\":\"us-en\",\"time\":\"m\"}\n",
    "\n",
    "duckduckapi_key = \"YOUR API\"\n",
    "\n",
    "headers = {\n",
    "\t\"X-RapidAPI-Key\": duckduckapi_key,\n",
    "\t\"X-RapidAPI-Host\": \"duckduckgo10.p.rapidapi.com\"\n",
    "}\n",
    "\n",
    "response = requests.get(url, headers=headers, params=querystring)\n",
    "response = response.json()\n",
    "\n",
    "print(response)"
   ]
  },
  {
   "cell_type": "markdown",
   "metadata": {
    "application/vnd.databricks.v1+cell": {
     "cellMetadata": {},
     "inputWidgets": {},
     "nuid": "2ecb41e5-f9f5-4fc4-aabe-90986cabe46c",
     "showTitle": false,
     "title": ""
    }
   },
   "source": [
    "Scrape articles from URLs using ScrapeGraphAI"
   ]
  },
  {
   "cell_type": "code",
   "execution_count": null,
   "metadata": {
    "application/vnd.databricks.v1+cell": {
     "cellMetadata": {
      "byteLimit": 2048000,
      "rowLimit": 10000
     },
     "inputWidgets": {},
     "nuid": "985f05f2-1f29-4d8a-9735-9cc6cafebb5b",
     "showTitle": false,
     "title": ""
    }
   },
   "outputs": [
    {
     "name": "stdout",
     "output_type": "stream",
     "text": [
      "30\n"
     ]
    }
   ],
   "source": [
    "# check how many articles we have\n",
    "articles = response['data']\n",
    "print(len(articles))"
   ]
  },
  {
   "cell_type": "code",
   "execution_count": null,
   "metadata": {
    "application/vnd.databricks.v1+cell": {
     "cellMetadata": {
      "byteLimit": 2048000,
      "rowLimit": 10000
     },
     "inputWidgets": {},
     "nuid": "cd8b383f-2441-4ee3-9756-c3a0f9915ca1",
     "showTitle": false,
     "title": ""
    }
   },
   "outputs": [
    {
     "name": "stderr",
     "output_type": "stream",
     "text": [
      "/local_disk0/.ephemeral_nfs/envs/pythonEnv-410bb54c-5726-4437-bfc8-18159466a7c1/lib/python3.10/site-packages/scrapegraphai/utils/remover.py:26: MarkupResemblesLocatorWarning: The input looks more like a filename than markup. You may want to open this file and pass the filehandle into Beautiful Soup.\n",
      "  soup = BeautifulSoup(html_content, 'html.parser')\n",
      "/local_disk0/.ephemeral_nfs/envs/pythonEnv-410bb54c-5726-4437-bfc8-18159466a7c1/lib/python3.10/site-packages/scrapegraphai/utils/remover.py:26: MarkupResemblesLocatorWarning: The input looks more like a filename than markup. You may want to open this file and pass the filehandle into Beautiful Soup.\n",
      "  soup = BeautifulSoup(html_content, 'html.parser')\n",
      "/local_disk0/.ephemeral_nfs/envs/pythonEnv-410bb54c-5726-4437-bfc8-18159466a7c1/lib/python3.10/site-packages/scrapegraphai/utils/remover.py:26: MarkupResemblesLocatorWarning: The input looks more like a filename than markup. You may want to open this file and pass the filehandle into Beautiful Soup.\n",
      "  soup = BeautifulSoup(html_content, 'html.parser')\n",
      "/local_disk0/.ephemeral_nfs/envs/pythonEnv-410bb54c-5726-4437-bfc8-18159466a7c1/lib/python3.10/site-packages/scrapegraphai/utils/remover.py:26: MarkupResemblesLocatorWarning: The input looks more like a filename than markup. You may want to open this file and pass the filehandle into Beautiful Soup.\n",
      "  soup = BeautifulSoup(html_content, 'html.parser')\n"
     ]
    },
    {
     "name": "stdout",
     "output_type": "stream",
     "text": [
      "                 date  ...                                       article_text\n",
      "0 2024-05-05 23:17:17  ...                              No article text found\n",
      "1 2024-05-05 12:30:00  ...  As Elon Musk steps away, yet again, from the i...\n",
      "2 2024-05-05 18:42:00  ...                              No body content found\n",
      "3 2024-05-05 09:00:00  ...                              No article text found\n",
      "4 2024-05-05 15:13:00  ...                              No article text found\n",
      "5 2024-05-05 20:18:00  ...                              No article text found\n",
      "6 2024-05-05 19:00:00  ...                              No body content found\n",
      "7 2024-05-05 00:38:16  ...                              No article text found\n",
      "8 2024-05-04 19:00:28  ...                              No article text found\n",
      "9 2024-05-03 15:34:00  ...                              No article text found\n",
      "\n",
      "[10 rows x 9 columns]\n"
     ]
    }
   ],
   "source": [
    "import os\n",
    "from scrapegraphai.graphs import SmartScraperGraph\n",
    "import pandas as pd\n",
    "import json\n",
    "import nest_asyncio\n",
    "import asyncio\n",
    "import playwright\n",
    "from json import JSONDecodeError\n",
    "\n",
    "async def run_scrape(url, graph_config):\n",
    "    smart_scraper_graph = SmartScraperGraph(\n",
    "        prompt=\"Extract article text\",\n",
    "        source=url,\n",
    "        config=graph_config\n",
    "        )\n",
    "\n",
    "    extracted_dict = smart_scraper_graph.run()\n",
    "    return extracted_dict\n",
    "\n",
    "nest_asyncio.apply()\n",
    "\n",
    "openai_key = \"YOUR API\"\n",
    "\n",
    "graph_config = {\n",
    "    \"llm\": {\n",
    "        \"api_key\": openai_key,\n",
    "        \"model\": \"gpt-3.5-turbo\",\n",
    "    },\n",
    "}\n",
    "\n",
    "articles = response['data']\n",
    "\n",
    "for article in articles:\n",
    "    url = article['url']\n",
    "\n",
    "    # does not scrape well from these websites\n",
    "    if \"www.msn.com\" not in url and \"thedailybeast.com\" not in url:\n",
    "        extracted_dict = asyncio.run(run_scrape(url, graph_config))\n",
    "        article['article_text'] = next(iter(extracted_dict.values()))\n",
    "    else:\n",
    "        article['article_text'] = \"No article text found\"\n",
    "\n",
    "# Convert to JSON string\n",
    "articles_json = json.dumps(articles)\n",
    "\n",
    "# Convert to DataFrame\n",
    "df_raw = pd.read_json(articles_json)\n",
    "print(df_raw.head(10))\n"
   ]
  },
  {
   "cell_type": "markdown",
   "metadata": {
    "application/vnd.databricks.v1+cell": {
     "cellMetadata": {},
     "inputWidgets": {},
     "nuid": "cb0322a5-a708-4659-87f7-690154864f46",
     "showTitle": false,
     "title": ""
    }
   },
   "source": [
    "Summarize long articles"
   ]
  },
  {
   "cell_type": "code",
   "execution_count": null,
   "metadata": {
    "application/vnd.databricks.v1+cell": {
     "cellMetadata": {
      "byteLimit": 2048000,
      "rowLimit": 10000
     },
     "inputWidgets": {},
     "nuid": "a14090a0-5c3f-4dc0-80ef-19374f10dbe6",
     "showTitle": false,
     "title": ""
    }
   },
   "outputs": [
    {
     "name": "stdout",
     "output_type": "stream",
     "text": [
      "3\n"
     ]
    }
   ],
   "source": [
    "# check how many articles above 1000 characters \n",
    "long_articles = df_raw[df_raw[\"article_text\"].str.len() > 1000]\n",
    "print(len(long_articles))"
   ]
  },
  {
   "cell_type": "code",
   "execution_count": null,
   "metadata": {
    "application/vnd.databricks.v1+cell": {
     "cellMetadata": {
      "byteLimit": 2048000,
      "rowLimit": 10000
     },
     "inputWidgets": {},
     "nuid": "7d42042e-4b28-4357-9dde-3538be212874",
     "showTitle": false,
     "title": ""
    }
   },
   "outputs": [
    {
     "name": "stdout",
     "output_type": "stream",
     "text": [
      "0                                No body content found\n",
      "1    The article discusses the Zhidou Rainbow, a co...\n",
      "2                                No article text found\n",
      "3                                No article text found\n",
      "4                                No article text found\n",
      "Name: summary, dtype: object\n"
     ]
    }
   ],
   "source": [
    "# from langchain_core.prompts import PromptTemplate\n",
    "# from langchain.chat_models import ChatDatabricks\n",
    "\n",
    "# model = ChatDatabricks(endpoint=\"databricks-dbrx-instruct\")\n",
    "\n",
    "# for index, row in df_raw.iterrows():\n",
    "#     # if article is above 1000 characters then summarize it\n",
    "#     if len(row['article_text']) > 1000:\n",
    "#         query = row['article_text']\n",
    "#         prompt = PromptTemplate(\n",
    "#             template=\"Summarize this news article keeping the most important details.\\n{format_instructions}\\n{query}\\n\",\n",
    "#             input_variables=[\"query\", \"text\"]\n",
    "#         )\n",
    "\n",
    "#         chain = prompt | model\n",
    "#         response = chain.invoke({\"format_instructions\": None, \"query\": query})\n",
    "#         df_raw.at[index, 'summary'] = response.content\n",
    "#     # else keep the article text as is\n",
    "#     else:\n",
    "#         df_raw.at[index, 'summary'] = row['article_text']\n",
    "\n",
    "# print(df_raw['summary'].head(5))"
   ]
  },
  {
   "cell_type": "code",
   "execution_count": null,
   "metadata": {
    "application/vnd.databricks.v1+cell": {
     "cellMetadata": {
      "byteLimit": 2048000,
      "rowLimit": 10000
     },
     "inputWidgets": {},
     "nuid": "2d67b131-6841-4409-81e9-c1bd387b7844",
     "showTitle": false,
     "title": ""
    }
   },
   "outputs": [
    {
     "name": "stdout",
     "output_type": "stream",
     "text": [
      "0\n"
     ]
    }
   ],
   "source": [
    "# # check how many articles above 1000 characters \n",
    "# long_articles = df_raw[df_raw[\"summary\"].str.len() > 1000]\n",
    "# print(len(long_articles))"
   ]
  },
  {
   "cell_type": "markdown",
   "metadata": {
    "application/vnd.databricks.v1+cell": {
     "cellMetadata": {},
     "inputWidgets": {},
     "nuid": "6a07e795-2d9f-4c4c-b254-8e5b26fe10d5",
     "showTitle": false,
     "title": ""
    }
   },
   "source": [
    "Data Cleaning"
   ]
  },
  {
   "cell_type": "code",
   "execution_count": null,
   "metadata": {
    "application/vnd.databricks.v1+cell": {
     "cellMetadata": {
      "byteLimit": 2048000,
      "rowLimit": 10000
     },
     "inputWidgets": {},
     "nuid": "0dcdc32c-0f7d-4171-ad24-7077db9be84b",
     "showTitle": false,
     "title": ""
    }
   },
   "outputs": [
    {
     "name": "stdout",
     "output_type": "stream",
     "text": [
      "  published_date  ... company_name\n",
      "0     2024-05-05  ...        Tesla\n",
      "1     2024-05-05  ...        Tesla\n",
      "2     2024-05-05  ...        Tesla\n",
      "3     2024-05-05  ...        Tesla\n",
      "4     2024-05-05  ...        Tesla\n",
      "\n",
      "[5 rows x 4 columns]\n"
     ]
    }
   ],
   "source": [
    "import re\n",
    "\n",
    "def clean_non_english_chars(text):\n",
    "    # Remove characters that are not typical English characters or common punctuations\n",
    "    cleaned_text = re.sub(r'[^a-zA-Z0-9\\s.,!?\\'\"-]', '', text)\n",
    "    return cleaned_text\n",
    "\n",
    "df = df_raw.copy()\n",
    "\n",
    "# clean excerpt column off tags </b> and <b>\n",
    "df['excerpt'] = df['excerpt'].str.replace('</b>', '').str.replace('<b>', '')\n",
    "\n",
    "# convert date column from epoch time to human readable\n",
    "df['date'] = pd.to_datetime(df['date'], unit='s').dt.strftime('%Y-%m-%d')\n",
    "\n",
    "# apply clean_non_english_chars to article_text column\n",
    "df['article_text'] = df['article_text'].apply(clean_non_english_chars)\n",
    "\n",
    "# check if excerpt and title is in article_text, if not, concatenate them\n",
    "df['article_text'] = df.apply(lambda x: x['article_text'] if x['excerpt'] in x['article_text'] else x['excerpt'] + ' ' + x['article_text'], axis=1)\n",
    "df['article_text'] = df.apply(lambda x: x['article_text'] if x['title'] in x['article_text'] else x['title'] + '. ' + x['article_text'], axis=1)\n",
    "\n",
    "# remove not found text\n",
    "df['article_text'] = df['article_text'].str.replace('No article text found', '').str.replace('No body content found', '')\n",
    "\n",
    "# remove any extra spaces and line breaks\n",
    "df['article_text'] = df['article_text'].str.replace('\\n', ' ').str.replace(' +', ' ')\n",
    "\n",
    "# rename columns\n",
    "df.rename(columns={'article_text': 'content'}, inplace=True)\n",
    "df.rename(columns={'date': 'published_date'}, inplace=True)\n",
    "\n",
    "# drop not needed columns\n",
    "df.drop(columns=['image', 'relativeTime', 'isOld', 'syndicate', 'title', 'excerpt'], inplace=True)\n",
    "df['company_name'] = company\n",
    "\n",
    "print(df.head(5))"
   ]
  },
  {
   "cell_type": "markdown",
   "metadata": {
    "application/vnd.databricks.v1+cell": {
     "cellMetadata": {},
     "inputWidgets": {},
     "nuid": "27243046-f4d9-4376-8bd9-e61ceff3a3ef",
     "showTitle": false,
     "title": ""
    }
   },
   "source": [
    "Add articles to DB"
   ]
  },
  {
   "cell_type": "code",
   "execution_count": null,
   "metadata": {
    "application/vnd.databricks.v1+cell": {
     "cellMetadata": {
      "byteLimit": 2048000,
      "rowLimit": 10000
     },
     "inputWidgets": {},
     "nuid": "0824e681-e345-4bd4-8bd8-7e902da09976",
     "showTitle": false,
     "title": ""
    }
   },
   "outputs": [
    {
     "name": "stdout",
     "output_type": "stream",
     "text": [
      "Index(['published_date', 'url', 'content', 'company_name'], dtype='object')\n",
      "published_date    object\n",
      "url               object\n",
      "content           object\n",
      "company_name      object\n",
      "dtype: object\n"
     ]
    }
   ],
   "source": [
    "print(df.columns)\n",
    "print(df.dtypes)"
   ]
  },
  {
   "cell_type": "code",
   "execution_count": null,
   "metadata": {
    "application/vnd.databricks.v1+cell": {
     "cellMetadata": {
      "byteLimit": 2048000,
      "rowLimit": 10000
     },
     "inputWidgets": {},
     "nuid": "eff5750c-2ca1-41ae-9ac4-b6ca42187e58",
     "showTitle": false,
     "title": ""
    }
   },
   "outputs": [
    {
     "name": "stdout",
     "output_type": "stream",
     "text": [
      "+--------------+---------+-------+\n",
      "|      col_name|data_type|comment|\n",
      "+--------------+---------+-------+\n",
      "|           url|   string|   NULL|\n",
      "|       content|   string|   NULL|\n",
      "|  company_name|   string|   NULL|\n",
      "|published_date|   string|   NULL|\n",
      "+--------------+---------+-------+\n",
      "\n"
     ]
    }
   ],
   "source": [
    "schema = \"hackathon_schema\"\n",
    "table_name = \"articles\"\n",
    "\n",
    "# 4. Create the table with the specified columns\n",
    "create_table_query = f\"\"\"\n",
    "CREATE TABLE IF NOT EXISTS {schema}.{table_name} (\n",
    "    url STRING,\n",
    "    content STRING,\n",
    "    company_name STRING,\n",
    "    published_date STRING\n",
    ")\n",
    "\"\"\"\n",
    "\n",
    "# Execute the query\n",
    "spark.sql(create_table_query)\n",
    "\n",
    "# 5. Verify the table\n",
    "verify_query = f\"DESCRIBE TABLE {schema}.{table_name}\"\n",
    "result = spark.sql(verify_query)\n",
    "result.show()"
   ]
  },
  {
   "cell_type": "code",
   "execution_count": null,
   "metadata": {
    "application/vnd.databricks.v1+cell": {
     "cellMetadata": {
      "byteLimit": 2048000,
      "rowLimit": 10000
     },
     "inputWidgets": {},
     "nuid": "d5a5dafe-d0c8-48c9-ae1d-b7ceac66e645",
     "showTitle": false,
     "title": ""
    }
   },
   "outputs": [
    {
     "name": "stdout",
     "output_type": "stream",
     "text": [
      "+--------------------+--------------------+------------+--------------+---------+\n",
      "|                 url|             content|company_name|published_date|sentiment|\n",
      "+--------------------+--------------------+------------+--------------+---------+\n",
      "|https://www.msn.c...|Tesla's 'apocalyp...|       Tesla|    2024-05-05|     NULL|\n",
      "|https://www.wired...|As Elon Musk Aban...|       Tesla|    2024-05-05|     NULL|\n",
      "|https://www.forbe...|Longer-Range Tesl...|       Tesla|    2024-05-05|     NULL|\n",
      "|https://www.msn.c...|Tesla is facing m...|       Tesla|    2024-05-05|     NULL|\n",
      "|https://www.msn.c...|Tesla's Optimus v...|       Tesla|    2024-05-05|     NULL|\n",
      "|https://www.msn.c...|Tesla plans to ch...|       Tesla|    2024-05-05|     NULL|\n",
      "|https://news.yaho...|Hyundai antes up ...|       Tesla|    2024-05-05|     NULL|\n",
      "|https://www.msn.c...|These are the kin...|       Tesla|    2024-05-05|     NULL|\n",
      "|https://www.msn.c...|Musk just slashed...|       Tesla|    2024-05-04|     NULL|\n",
      "|https://www.msn.c...|Is Musk Crazy Sma...|       Tesla|    2024-05-03|     NULL|\n",
      "|https://www.ft.co...|Can Elon Musk's T...|       Tesla|    2024-05-03|     NULL|\n",
      "|https://www.theda...|'I'm Still in Den...|       Tesla|    2024-05-04|     NULL|\n",
      "|https://www.msn.c...|Have the wheels c...|       Tesla|    2024-05-03|     NULL|\n",
      "|https://www.forbe...|$299 Tesla Model ...|       Tesla|    2024-05-05|     NULL|\n",
      "|https://www.msn.c...|Tesla pushes to l...|       Tesla|    2024-05-04|     NULL|\n",
      "|https://www.msn.c...|Tesla's Superchar...|       Tesla|    2024-05-03|     NULL|\n",
      "|https://arstechni...|What's happening ...|       Tesla|    2024-05-03|     NULL|\n",
      "|https://www.msn.c...|How U.S. safety r...|       Tesla|    2024-05-04|     NULL|\n",
      "|https://www.msn.c...|He drove his fami...|       Tesla|    2024-05-03|     NULL|\n",
      "|https://www.msn.c...|Elimination of Te...|       Tesla|    2024-05-02|     NULL|\n",
      "+--------------------+--------------------+------------+--------------+---------+\n",
      "only showing top 20 rows\n",
      "\n"
     ]
    }
   ],
   "source": [
    "spark_df = spark.createDataFrame(df)\n",
    "\n",
    "# If URL is already in db, then don't add it\n",
    "existing_urls = spark.sql(\"SELECT url FROM hackathon_schema.articles\").rdd.flatMap(lambda x: x).collect()\n",
    "filtered_spark_df = spark_df.filter(~spark_df.url.isin(existing_urls))\n",
    "\n",
    "# Write data to the articles table\n",
    "filtered_spark_df.write.format(\"delta\").mode(\"append\").saveAsTable(\"hackathon_schema.articles\")\n",
    "\n",
    "# Verify the insertion\n",
    "result = spark.sql(\"SELECT * FROM hackathon_schema.articles\")\n",
    "result.show()\n"
   ]
  },
  {
   "cell_type": "code",
   "execution_count": null,
   "metadata": {
    "application/vnd.databricks.v1+cell": {
     "cellMetadata": {
      "byteLimit": 2048000,
      "rowLimit": 10000
     },
     "inputWidgets": {},
     "nuid": "63de48be-74aa-4194-85f2-0ea21a2c9c6d",
     "showTitle": false,
     "title": ""
    }
   },
   "outputs": [
    {
     "name": "stdout",
     "output_type": "stream",
     "text": [
      "+--------+\n",
      "|count(1)|\n",
      "+--------+\n",
      "|      30|\n",
      "+--------+\n",
      "\n"
     ]
    }
   ],
   "source": [
    "# Make sure we loaded all articles\n",
    "result = spark.sql(\"SELECT DISTINCT(COUNT(*)) FROM hackathon_schema.articles\")\n",
    "result.show()"
   ]
  },
  {
   "cell_type": "code",
   "execution_count": null,
   "metadata": {
    "application/vnd.databricks.v1+cell": {
     "cellMetadata": {
      "byteLimit": 2048000,
      "rowLimit": 10000
     },
     "inputWidgets": {},
     "nuid": "852582bb-652a-43e5-b83a-28b3909730f7",
     "showTitle": false,
     "title": ""
    }
   },
   "outputs": [
    {
     "data": {
      "text/plain": [
       "DataFrame[]"
      ]
     },
     "execution_count": 7,
     "metadata": {},
     "output_type": "execute_result"
    }
   ],
   "source": [
    "# Truncate the table\n",
    "#spark.sql(\"TRUNCATE TABLE hackathon_schema.users\")\n",
    "#spark.sql(\"TRUNCATE TABLE hackathon_schema.articles\")"
   ]
  },
  {
   "cell_type": "code",
   "execution_count": null,
   "metadata": {
    "application/vnd.databricks.v1+cell": {
     "cellMetadata": {
      "byteLimit": 2048000,
      "rowLimit": 10000
     },
     "inputWidgets": {},
     "nuid": "5f4e8413-67af-4194-8abc-9363bbdd54e2",
     "showTitle": false,
     "title": ""
    }
   },
   "outputs": [
    {
     "data": {
      "text/plain": [
       "DataFrame[]"
      ]
     },
     "execution_count": 65,
     "metadata": {},
     "output_type": "execute_result"
    }
   ],
   "source": [
    "#spark.sql(\"DROP TABLE IF EXISTS hackathon_schema.articles\")"
   ]
  }
 ],
 "metadata": {
  "application/vnd.databricks.v1+notebook": {
   "dashboards": [],
   "language": "python",
   "notebookMetadata": {
    "pythonIndentUnit": 4
   },
   "notebookName": "01. Scrape, Clean & Load Articles",
   "widgets": {}
  },
  "language_info": {
   "name": "python"
  }
 },
 "nbformat": 4,
 "nbformat_minor": 0
}

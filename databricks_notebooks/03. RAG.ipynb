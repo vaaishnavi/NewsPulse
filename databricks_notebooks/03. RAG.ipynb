{
 "cells": [
  {
   "cell_type": "code",
   "execution_count": 0,
   "metadata": {
    "application/vnd.databricks.v1+cell": {
     "cellMetadata": {
      "byteLimit": 2048000,
      "rowLimit": 10000
     },
     "inputWidgets": {},
     "nuid": "4b2b0790-5668-43fe-8e31-1b845d8aa64d",
     "showTitle": false,
     "title": ""
    }
   },
   "outputs": [
    {
     "output_type": "stream",
     "name": "stdout",
     "output_type": "stream",
     "text": [
      "                                                 url  ...                                          sentiment\n0  https://www.msn.com/en-us/news/technology/tesl...  ...  {\"layoffs\": null, \"restructuring\": null, \"boar...\n1  https://www.wired.com/story/zhidou-rainbow-ev-...  ...  {\"layoffs\": null, \"restructuring\": 0.2, \"board...\n2  https://www.forbes.com/sites/brookecrothers/20...  ...  {\"layoffs\": null, \"restructuring\": null, \"boar...\n3  https://www.msn.com/en-us/autos/news/tesla-is-...  ...  {\"layoffs\": null, \"restructuring\": null, \"boar...\n4  https://www.msn.com/en-us/news/technology/tesl...  ...  {\"layoffs\": null, \"restructuring\": null, \"boar...\n\n[5 rows x 5 columns]\n"
     ]
    }
   ],
   "source": [
    "# load articles\n",
    "result = spark.sql(\"SELECT * FROM hackathon_schema.articles\")\n",
    "\n",
    "df = result.toPandas()\n",
    "print(df.head(5))"
   ]
  },
  {
   "cell_type": "code",
   "execution_count": 0,
   "metadata": {
    "application/vnd.databricks.v1+cell": {
     "cellMetadata": {
      "byteLimit": 2048000,
      "rowLimit": 10000
     },
     "inputWidgets": {},
     "nuid": "41c144ad-bc69-4d92-bfc2-fd9c4af2b15c",
     "showTitle": false,
     "title": ""
    }
   },
   "outputs": [
    {
     "output_type": "stream",
     "name": "stdout",
     "output_type": "stream",
     "text": [
      "\u001B[43mNote: you may need to restart the kernel using dbutils.library.restartPython() to use updated packages.\u001B[0m\nRequirement already satisfied: databricks-genai-inference in /local_disk0/.ephemeral_nfs/envs/pythonEnv-b0bd3422-d996-4c7b-8c05-73de165d10cd/lib/python3.10/site-packages (0.2.3)\nRequirement already satisfied: langchain in /local_disk0/.ephemeral_nfs/envs/pythonEnv-b0bd3422-d996-4c7b-8c05-73de165d10cd/lib/python3.10/site-packages (0.1.17)\nRequirement already satisfied: databricks-vectorsearch in /local_disk0/.ephemeral_nfs/envs/pythonEnv-b0bd3422-d996-4c7b-8c05-73de165d10cd/lib/python3.10/site-packages (0.33)\nCollecting mlflow\n  Downloading mlflow-2.12.1-py3-none-any.whl (20.2 MB)\n     ━━━━━━━━━━━━━━━━━━━━━━━━━━━━━━━━━━━━━━━━ 20.2/20.2 MB 44.2 MB/s eta 0:00:00\nCollecting transformers\n  Downloading transformers-4.40.1-py3-none-any.whl (9.0 MB)\n     ━━━━━━━━━━━━━━━━━━━━━━━━━━━━━━━━━━━━━━━━ 9.0/9.0 MB 83.3 MB/s eta 0:00:00\nRequirement already satisfied: databricks-sdk==0.19.1 in /local_disk0/.ephemeral_nfs/envs/pythonEnv-b0bd3422-d996-4c7b-8c05-73de165d10cd/lib/python3.10/site-packages (from databricks-genai-inference) (0.19.1)\nRequirement already satisfied: pydantic>=2.4.2 in /local_disk0/.ephemeral_nfs/envs/pythonEnv-b0bd3422-d996-4c7b-8c05-73de165d10cd/lib/python3.10/site-packages (from databricks-genai-inference) (2.7.1)\nRequirement already satisfied: typing-extensions>=4.7.1 in /local_disk0/.ephemeral_nfs/envs/pythonEnv-b0bd3422-d996-4c7b-8c05-73de165d10cd/lib/python3.10/site-packages (from databricks-genai-inference) (4.11.0)\nRequirement already satisfied: pyyaml>=5.4.1 in /local_disk0/.ephemeral_nfs/envs/pythonEnv-b0bd3422-d996-4c7b-8c05-73de165d10cd/lib/python3.10/site-packages (from databricks-genai-inference) (6.0.1)\nRequirement already satisfied: requests<3,>=2.26.0 in /databricks/python3/lib/python3.10/site-packages (from databricks-genai-inference) (2.28.1)\nRequirement already satisfied: tenacity==8.2.3 in /local_disk0/.ephemeral_nfs/envs/pythonEnv-b0bd3422-d996-4c7b-8c05-73de165d10cd/lib/python3.10/site-packages (from databricks-genai-inference) (8.2.3)\nRequirement already satisfied: httpx<1,>=0.23.0 in /local_disk0/.ephemeral_nfs/envs/pythonEnv-b0bd3422-d996-4c7b-8c05-73de165d10cd/lib/python3.10/site-packages (from databricks-genai-inference) (0.27.0)\nRequirement already satisfied: google-auth~=2.0 in /local_disk0/.ephemeral_nfs/envs/pythonEnv-b0bd3422-d996-4c7b-8c05-73de165d10cd/lib/python3.10/site-packages (from databricks-sdk==0.19.1->databricks-genai-inference) (2.29.0)\nRequirement already satisfied: langsmith<0.2.0,>=0.1.17 in /local_disk0/.ephemeral_nfs/envs/pythonEnv-b0bd3422-d996-4c7b-8c05-73de165d10cd/lib/python3.10/site-packages (from langchain) (0.1.54)\nRequirement already satisfied: SQLAlchemy<3,>=1.4 in /local_disk0/.ephemeral_nfs/envs/pythonEnv-b0bd3422-d996-4c7b-8c05-73de165d10cd/lib/python3.10/site-packages (from langchain) (2.0.30)\nRequirement already satisfied: jsonpatch<2.0,>=1.33 in /local_disk0/.ephemeral_nfs/envs/pythonEnv-b0bd3422-d996-4c7b-8c05-73de165d10cd/lib/python3.10/site-packages (from langchain) (1.33)\nRequirement already satisfied: async-timeout<5.0.0,>=4.0.0 in /local_disk0/.ephemeral_nfs/envs/pythonEnv-b0bd3422-d996-4c7b-8c05-73de165d10cd/lib/python3.10/site-packages (from langchain) (4.0.3)\nRequirement already satisfied: aiohttp<4.0.0,>=3.8.3 in /local_disk0/.ephemeral_nfs/envs/pythonEnv-b0bd3422-d996-4c7b-8c05-73de165d10cd/lib/python3.10/site-packages (from langchain) (3.9.5)\nRequirement already satisfied: langchain-core<0.2.0,>=0.1.48 in /local_disk0/.ephemeral_nfs/envs/pythonEnv-b0bd3422-d996-4c7b-8c05-73de165d10cd/lib/python3.10/site-packages (from langchain) (0.1.50)\nRequirement already satisfied: langchain-text-splitters<0.1,>=0.0.1 in /local_disk0/.ephemeral_nfs/envs/pythonEnv-b0bd3422-d996-4c7b-8c05-73de165d10cd/lib/python3.10/site-packages (from langchain) (0.0.1)\nRequirement already satisfied: numpy<2,>=1 in /databricks/python3/lib/python3.10/site-packages (from langchain) (1.21.5)\nRequirement already satisfied: dataclasses-json<0.7,>=0.5.7 in /local_disk0/.ephemeral_nfs/envs/pythonEnv-b0bd3422-d996-4c7b-8c05-73de165d10cd/lib/python3.10/site-packages (from langchain) (0.6.5)\nRequirement already satisfied: langchain-community<0.1,>=0.0.36 in /local_disk0/.ephemeral_nfs/envs/pythonEnv-b0bd3422-d996-4c7b-8c05-73de165d10cd/lib/python3.10/site-packages (from langchain) (0.0.36)\nRequirement already satisfied: mlflow-skinny<3,>=2.11.3 in /local_disk0/.ephemeral_nfs/envs/pythonEnv-b0bd3422-d996-4c7b-8c05-73de165d10cd/lib/python3.10/site-packages (from databricks-vectorsearch) (2.12.1)\nRequirement already satisfied: protobuf<5,>=3.12.0 in /databricks/python3/lib/python3.10/site-packages (from databricks-vectorsearch) (3.19.4)\nCollecting markdown<4,>=3.3\n  Downloading Markdown-3.6-py3-none-any.whl (105 kB)\n     ━━━━━━━━━━━━━━━━━━━━━━━━━━━━━━━━━━━━━━ 105.4/105.4 kB 20.3 MB/s eta 0:00:00\nRequirement already satisfied: pytz<2025 in /databricks/python3/lib/python3.10/site-packages (from mlflow) (2022.1)\nRequirement already satisfied: gitpython<4,>=3.1.9 in /local_disk0/.ephemeral_nfs/envs/pythonEnv-b0bd3422-d996-4c7b-8c05-73de165d10cd/lib/python3.10/site-packages (from mlflow) (3.1.43)\nCollecting Flask<4\n  Downloading flask-3.0.3-py3-none-any.whl (101 kB)\n     ━━━━━━━━━━━━━━━━━━━━━━━━━━━━━━━━━━━━━━ 101.7/101.7 kB 23.2 MB/s eta 0:00:00\nRequirement already satisfied: matplotlib<4 in /databricks/python3/lib/python3.10/site-packages (from mlflow) (3.5.2)\nRequirement already satisfied: click<9,>=7.0 in /databricks/python3/lib/python3.10/site-packages (from mlflow) (8.0.4)\nCollecting querystring-parser<2\n  Downloading querystring_parser-1.2.4-py2.py3-none-any.whl (7.9 kB)\nCollecting graphene<4\n  Downloading graphene-3.3-py2.py3-none-any.whl (128 kB)\n     ━━━━━━━━━━━━━━━━━━━━━━━━━━━━━━━━━━━━━━ 128.2/128.2 kB 20.4 MB/s eta 0:00:00\nRequirement already satisfied: Jinja2<4,>=2.11 in /databricks/python3/lib/python3.10/site-packages (from mlflow) (2.11.3)\nRequirement already satisfied: entrypoints<1 in /databricks/python3/lib/python3.10/site-packages (from mlflow) (0.4)\nRequirement already satisfied: sqlparse<1,>=0.4.0 in /local_disk0/.ephemeral_nfs/envs/pythonEnv-b0bd3422-d996-4c7b-8c05-73de165d10cd/lib/python3.10/site-packages (from mlflow) (0.5.0)\nCollecting gunicorn<22\n  Downloading gunicorn-21.2.0-py3-none-any.whl (80 kB)\n     ━━━━━━━━━━━━━━━━━━━━━━━━━━━━━━━━━━━━━━━━ 80.2/80.2 kB 16.9 MB/s eta 0:00:00\nCollecting docker<8,>=4.0.0\n  Downloading docker-7.0.0-py3-none-any.whl (147 kB)\n     ━━━━━━━━━━━━━━━━━━━━━━━━━━━━━━━━━━━━━━ 147.6/147.6 kB 30.2 MB/s eta 0:00:00\nRequirement already satisfied: scikit-learn<2 in /databricks/python3/lib/python3.10/site-packages (from mlflow) (1.1.1)\nRequirement already satisfied: pyarrow<16,>=4.0.0 in /databricks/python3/lib/python3.10/site-packages (from mlflow) (8.0.0)\nRequirement already satisfied: scipy<2 in /databricks/python3/lib/python3.10/site-packages (from mlflow) (1.9.1)\nRequirement already satisfied: pandas<3 in /databricks/python3/lib/python3.10/site-packages (from mlflow) (1.4.4)\nCollecting alembic!=1.10.0,<2\n  Downloading alembic-1.13.1-py3-none-any.whl (233 kB)\n     ━━━━━━━━━━━━━━━━━━━━━━━━━━━━━━━━━━━━━━ 233.4/233.4 kB 31.6 MB/s eta 0:00:00\nRequirement already satisfied: packaging<25 in /local_disk0/.ephemeral_nfs/envs/pythonEnv-b0bd3422-d996-4c7b-8c05-73de165d10cd/lib/python3.10/site-packages (from mlflow) (23.2)\nRequirement already satisfied: importlib-metadata!=4.7.0,<8,>=3.7.0 in /usr/lib/python3/dist-packages (from mlflow) (4.6.4)\nRequirement already satisfied: cloudpickle<4 in /local_disk0/.ephemeral_nfs/envs/pythonEnv-b0bd3422-d996-4c7b-8c05-73de165d10cd/lib/python3.10/site-packages (from mlflow) (3.0.0)\nCollecting tokenizers<0.20,>=0.19\n  Downloading tokenizers-0.19.1-cp310-cp310-manylinux_2_17_x86_64.manylinux2014_x86_64.whl (3.6 MB)\n     ━━━━━━━━━━━━━━━━━━━━━━━━━━━━━━━━━━━━━━━━ 3.6/3.6 MB 99.0 MB/s eta 0:00:00\nCollecting safetensors>=0.4.1\n  Downloading safetensors-0.4.3-cp310-cp310-manylinux_2_17_x86_64.manylinux2014_x86_64.whl (1.2 MB)\n     ━━━━━━━━━━━━━━━━━━━━━━━━━━━━━━━━━━━━━━━━ 1.2/1.2 MB 92.3 MB/s eta 0:00:00\nCollecting regex!=2019.12.17\n  Downloading regex-2024.4.28-cp310-cp310-manylinux_2_17_x86_64.manylinux2014_x86_64.whl (774 kB)\n     ━━━━━━━━━━━━━━━━━━━━━━━━━━━━━━━━━━━━━━ 774.1/774.1 kB 75.2 MB/s eta 0:00:00\nRequirement already satisfied: filelock in /usr/local/lib/python3.10/dist-packages (from transformers) (3.12.2)\nCollecting tqdm>=4.27\n  Downloading tqdm-4.66.4-py3-none-any.whl (78 kB)\n     ━━━━━━━━━━━━━━━━━━━━━━━━━━━━━━━━━━━━━━━━ 78.3/78.3 kB 18.5 MB/s eta 0:00:00\nCollecting huggingface-hub<1.0,>=0.19.3\n  Downloading huggingface_hub-0.23.0-py3-none-any.whl (401 kB)\n     ━━━━━━━━━━━━━━━━━━━━━━━━━━━━━━━━━━━━━━ 401.2/401.2 kB 54.9 MB/s eta 0:00:00\nRequirement already satisfied: aiosignal>=1.1.2 in /local_disk0/.ephemeral_nfs/envs/pythonEnv-b0bd3422-d996-4c7b-8c05-73de165d10cd/lib/python3.10/site-packages (from aiohttp<4.0.0,>=3.8.3->langchain) (1.3.1)\nRequirement already satisfied: yarl<2.0,>=1.0 in /local_disk0/.ephemeral_nfs/envs/pythonEnv-b0bd3422-d996-4c7b-8c05-73de165d10cd/lib/python3.10/site-packages (from aiohttp<4.0.0,>=3.8.3->langchain) (1.9.4)\nRequirement already satisfied: multidict<7.0,>=4.5 in /local_disk0/.ephemeral_nfs/envs/pythonEnv-b0bd3422-d996-4c7b-8c05-73de165d10cd/lib/python3.10/site-packages (from aiohttp<4.0.0,>=3.8.3->langchain) (6.0.5)\nRequirement already satisfied: frozenlist>=1.1.1 in /local_disk0/.ephemeral_nfs/envs/pythonEnv-b0bd3422-d996-4c7b-8c05-73de165d10cd/lib/python3.10/site-packages (from aiohttp<4.0.0,>=3.8.3->langchain) (1.4.1)\nRequirement already satisfied: attrs>=17.3.0 in /databricks/python3/lib/python3.10/site-packages (from aiohttp<4.0.0,>=3.8.3->langchain) (21.4.0)\nCollecting Mako\n  Downloading Mako-1.3.3-py3-none-any.whl (78 kB)\n     ━━━━━━━━━━━━━━━━━━━━━━━━━━━━━━━━━━━━━━━━ 78.8/78.8 kB 13.8 MB/s eta 0:00:00\nRequirement already satisfied: marshmallow<4.0.0,>=3.18.0 in /local_disk0/.ephemeral_nfs/envs/pythonEnv-b0bd3422-d996-4c7b-8c05-73de165d10cd/lib/python3.10/site-packages (from dataclasses-json<0.7,>=0.5.7->langchain) (3.21.2)\nRequirement already satisfied: typing-inspect<1,>=0.4.0 in /local_disk0/.ephemeral_nfs/envs/pythonEnv-b0bd3422-d996-4c7b-8c05-73de165d10cd/lib/python3.10/site-packages (from dataclasses-json<0.7,>=0.5.7->langchain) (0.9.0)\nRequirement already satisfied: urllib3>=1.26.0 in /databricks/python3/lib/python3.10/site-packages (from docker<8,>=4.0.0->mlflow) (1.26.11)\nCollecting Jinja2<4,>=2.11\n  Downloading jinja2-3.1.4-py3-none-any.whl (133 kB)\n     ━━━━━━━━━━━━━━━━━━━━━━━━━━━━━━━━━━━━━━ 133.3/133.3 kB 29.0 MB/s eta 0:00:00\nCollecting Werkzeug>=3.0.0\n  Downloading werkzeug-3.0.3-py3-none-any.whl (227 kB)\n     ━━━━━━━━━━━━━━━━━━━━━━━━━━━━━━━━━━━━━━ 227.3/227.3 kB 41.8 MB/s eta 0:00:00\nCollecting itsdangerous>=2.1.2\n  Downloading itsdangerous-2.2.0-py3-none-any.whl (16 kB)\nCollecting click<9,>=7.0\n  Downloading click-8.1.7-py3-none-any.whl (97 kB)\n     ━━━━━━━━━━━━━━━━━━━━━━━━━━━━━━━━━━━━━━━━ 97.9/97.9 kB 20.7 MB/s eta 0:00:00\nCollecting blinker>=1.6.2\n  Downloading blinker-1.8.1-py3-none-any.whl (9.5 kB)\nRequirement already satisfied: gitdb<5,>=4.0.1 in /local_disk0/.ephemeral_nfs/envs/pythonEnv-b0bd3422-d996-4c7b-8c05-73de165d10cd/lib/python3.10/site-packages (from gitpython<4,>=3.1.9->mlflow) (4.0.11)\nCollecting graphql-core<3.3,>=3.1\n  Downloading graphql_core-3.2.3-py3-none-any.whl (202 kB)\n     ━━━━━━━━━━━━━━━━━━━━━━━━━━━━━━━━━━━━━━ 202.9/202.9 kB 41.7 MB/s eta 0:00:00\nCollecting aniso8601<10,>=8\n  Downloading aniso8601-9.0.1-py2.py3-none-any.whl (52 kB)\n     ━━━━━━━━━━━━━━━━━━━━━━━━━━━━━━━━━━━━━━━━ 52.8/52.8 kB 11.6 MB/s eta 0:00:00\nCollecting graphql-relay<3.3,>=3.1\n  Downloading graphql_relay-3.2.0-py3-none-any.whl (16 kB)\nRequirement already satisfied: idna in /databricks/python3/lib/python3.10/site-packages (from httpx<1,>=0.23.0->databricks-genai-inference) (3.3)\nRequirement already satisfied: anyio in /local_disk0/.ephemeral_nfs/envs/pythonEnv-b0bd3422-d996-4c7b-8c05-73de165d10cd/lib/python3.10/site-packages (from httpx<1,>=0.23.0->databricks-genai-inference) (4.3.0)\nRequirement already satisfied: sniffio in /local_disk0/.ephemeral_nfs/envs/pythonEnv-b0bd3422-d996-4c7b-8c05-73de165d10cd/lib/python3.10/site-packages (from httpx<1,>=0.23.0->databricks-genai-inference) (1.3.1)\nRequirement already satisfied: httpcore==1.* in /local_disk0/.ephemeral_nfs/envs/pythonEnv-b0bd3422-d996-4c7b-8c05-73de165d10cd/lib/python3.10/site-packages (from httpx<1,>=0.23.0->databricks-genai-inference) (1.0.5)\nRequirement already satisfied: certifi in /databricks/python3/lib/python3.10/site-packages (from httpx<1,>=0.23.0->databricks-genai-inference) (2022.9.14)\nRequirement already satisfied: h11<0.15,>=0.13 in /local_disk0/.ephemeral_nfs/envs/pythonEnv-b0bd3422-d996-4c7b-8c05-73de165d10cd/lib/python3.10/site-packages (from httpcore==1.*->httpx<1,>=0.23.0->databricks-genai-inference) (0.14.0)\nCollecting fsspec>=2023.5.0\n  Downloading fsspec-2024.3.1-py3-none-any.whl (171 kB)\n     ━━━━━━━━━━━━━━━━━━━━━━━━━━━━━━━━━━━━━━ 172.0/172.0 kB 36.7 MB/s eta 0:00:00\nRequirement already satisfied: MarkupSafe>=2.0 in /databricks/python3/lib/python3.10/site-packages (from Jinja2<4,>=2.11->mlflow) (2.0.1)\nRequirement already satisfied: jsonpointer>=1.9 in /local_disk0/.ephemeral_nfs/envs/pythonEnv-b0bd3422-d996-4c7b-8c05-73de165d10cd/lib/python3.10/site-packages (from jsonpatch<2.0,>=1.33->langchain) (2.4)\nRequirement already satisfied: orjson<4.0.0,>=3.9.14 in /local_disk0/.ephemeral_nfs/envs/pythonEnv-b0bd3422-d996-4c7b-8c05-73de165d10cd/lib/python3.10/site-packages (from langsmith<0.2.0,>=0.1.17->langchain) (3.10.3)\nRequirement already satisfied: cycler>=0.10 in /databricks/python3/lib/python3.10/site-packages (from matplotlib<4->mlflow) (0.11.0)\nRequirement already satisfied: python-dateutil>=2.7 in /databricks/python3/lib/python3.10/site-packages (from matplotlib<4->mlflow) (2.8.2)\nRequirement already satisfied: kiwisolver>=1.0.1 in /databricks/python3/lib/python3.10/site-packages (from matplotlib<4->mlflow) (1.4.2)\nRequirement already satisfied: fonttools>=4.22.0 in /databricks/python3/lib/python3.10/site-packages (from matplotlib<4->mlflow) (4.25.0)\nRequirement already satisfied: pyparsing>=2.2.1 in /databricks/python3/lib/python3.10/site-packages (from matplotlib<4->mlflow) (3.0.9)\nRequirement already satisfied: pillow>=6.2.0 in /databricks/python3/lib/python3.10/site-packages (from matplotlib<4->mlflow) (9.2.0)\nRequirement already satisfied: pydantic-core==2.18.2 in /local_disk0/.ephemeral_nfs/envs/pythonEnv-b0bd3422-d996-4c7b-8c05-73de165d10cd/lib/python3.10/site-packages (from pydantic>=2.4.2->databricks-genai-inference) (2.18.2)\nRequirement already satisfied: annotated-types>=0.4.0 in /local_disk0/.ephemeral_nfs/envs/pythonEnv-b0bd3422-d996-4c7b-8c05-73de165d10cd/lib/python3.10/site-packages (from pydantic>=2.4.2->databricks-genai-inference) (0.6.0)\nRequirement already satisfied: six in /usr/lib/python3/dist-packages (from querystring-parser<2->mlflow) (1.16.0)\nRequirement already satisfied: charset-normalizer<3,>=2 in /databricks/python3/lib/python3.10/site-packages (from requests<3,>=2.26.0->databricks-genai-inference) (2.0.4)\nRequirement already satisfied: threadpoolctl>=2.0.0 in /databricks/python3/lib/python3.10/site-packages (from scikit-learn<2->mlflow) (2.2.0)\nRequirement already satisfied: joblib>=1.0.0 in /databricks/python3/lib/python3.10/site-packages (from scikit-learn<2->mlflow) (1.2.0)\nRequirement already satisfied: greenlet!=0.4.17 in /local_disk0/.ephemeral_nfs/envs/pythonEnv-b0bd3422-d996-4c7b-8c05-73de165d10cd/lib/python3.10/site-packages (from SQLAlchemy<3,>=1.4->langchain) (3.0.3)\nRequirement already satisfied: smmap<6,>=3.0.1 in /local_disk0/.ephemeral_nfs/envs/pythonEnv-b0bd3422-d996-4c7b-8c05-73de165d10cd/lib/python3.10/site-packages (from gitdb<5,>=4.0.1->gitpython<4,>=3.1.9->mlflow) (5.0.1)\nRequirement already satisfied: rsa<5,>=3.1.4 in /local_disk0/.ephemeral_nfs/envs/pythonEnv-b0bd3422-d996-4c7b-8c05-73de165d10cd/lib/python3.10/site-packages (from google-auth~=2.0->databricks-sdk==0.19.1->databricks-genai-inference) (4.9)\nRequirement already satisfied: cachetools<6.0,>=2.0.0 in /local_disk0/.ephemeral_nfs/envs/pythonEnv-b0bd3422-d996-4c7b-8c05-73de165d10cd/lib/python3.10/site-packages (from google-auth~=2.0->databricks-sdk==0.19.1->databricks-genai-inference) (5.3.3)\nRequirement already satisfied: pyasn1-modules>=0.2.1 in /local_disk0/.ephemeral_nfs/envs/pythonEnv-b0bd3422-d996-4c7b-8c05-73de165d10cd/lib/python3.10/site-packages (from google-auth~=2.0->databricks-sdk==0.19.1->databricks-genai-inference) (0.4.0)\nRequirement already satisfied: mypy-extensions>=0.3.0 in /databricks/python3/lib/python3.10/site-packages (from typing-inspect<1,>=0.4.0->dataclasses-json<0.7,>=0.5.7->langchain) (0.4.3)\nCollecting MarkupSafe>=2.0\n  Downloading MarkupSafe-2.1.5-cp310-cp310-manylinux_2_17_x86_64.manylinux2014_x86_64.whl (25 kB)\nRequirement already satisfied: exceptiongroup>=1.0.2 in /local_disk0/.ephemeral_nfs/envs/pythonEnv-b0bd3422-d996-4c7b-8c05-73de165d10cd/lib/python3.10/site-packages (from anyio->httpx<1,>=0.23.0->databricks-genai-inference) (1.2.1)\nRequirement already satisfied: pyasn1<0.7.0,>=0.4.6 in /local_disk0/.ephemeral_nfs/envs/pythonEnv-b0bd3422-d996-4c7b-8c05-73de165d10cd/lib/python3.10/site-packages (from pyasn1-modules>=0.2.1->google-auth~=2.0->databricks-sdk==0.19.1->databricks-genai-inference) (0.6.0)\nInstalling collected packages: aniso8601, tqdm, safetensors, regex, querystring-parser, MarkupSafe, markdown, itsdangerous, gunicorn, graphql-core, fsspec, click, blinker, Werkzeug, Mako, Jinja2, huggingface-hub, graphql-relay, docker, tokenizers, graphene, Flask, alembic, transformers, mlflow\n  Attempting uninstall: MarkupSafe\n    Found existing installation: MarkupSafe 2.0.1\n    Not uninstalling markupsafe at /databricks/python3/lib/python3.10/site-packages, outside environment /local_disk0/.ephemeral_nfs/envs/pythonEnv-b0bd3422-d996-4c7b-8c05-73de165d10cd\n    Can't uninstall 'MarkupSafe'. No files were found to uninstall.\n  Attempting uninstall: click\n    Found existing installation: click 8.0.4\n    Not uninstalling click at /databricks/python3/lib/python3.10/site-packages, outside environment /local_disk0/.ephemeral_nfs/envs/pythonEnv-b0bd3422-d996-4c7b-8c05-73de165d10cd\n    Can't uninstall 'click'. No files were found to uninstall.\n  Attempting uninstall: blinker\n    Found existing installation: blinker 1.4\n    Not uninstalling blinker at /usr/lib/python3/dist-packages, outside environment /local_disk0/.ephemeral_nfs/envs/pythonEnv-b0bd3422-d996-4c7b-8c05-73de165d10cd\n    Can't uninstall 'blinker'. No files were found to uninstall.\n  Attempting uninstall: Jinja2\n    Found existing installation: Jinja2 2.11.3\n    Not uninstalling jinja2 at /databricks/python3/lib/python3.10/site-packages, outside environment /local_disk0/.ephemeral_nfs/envs/pythonEnv-b0bd3422-d996-4c7b-8c05-73de165d10cd\n    Can't uninstall 'Jinja2'. No files were found to uninstall.\nSuccessfully installed Flask-3.0.3 Jinja2-3.1.4 Mako-1.3.3 MarkupSafe-2.1.5 Werkzeug-3.0.3 alembic-1.13.1 aniso8601-9.0.1 blinker-1.8.1 click-8.1.7 docker-7.0.0 fsspec-2024.3.1 graphene-3.3 graphql-core-3.2.3 graphql-relay-3.2.0 gunicorn-21.2.0 huggingface-hub-0.23.0 itsdangerous-2.2.0 markdown-3.6 mlflow-2.12.1 querystring-parser-1.2.4 regex-2024.4.28 safetensors-0.4.3 tokenizers-0.19.1 tqdm-4.66.4 transformers-4.40.1\n\u001B[43mNote: you may need to restart the kernel using dbutils.library.restartPython() to use updated packages.\u001B[0m\n"
     ]
    }
   ],
   "source": [
    "%pip install databricks-genai-inference langchain databricks-vectorsearch mlflow transformers\n",
    "dbutils.library.restartPython()"
   ]
  },
  {
   "cell_type": "code",
   "execution_count": 0,
   "metadata": {
    "application/vnd.databricks.v1+cell": {
     "cellMetadata": {
      "byteLimit": 2048000,
      "implicitDf": true,
      "rowLimit": 10000
     },
     "inputWidgets": {},
     "nuid": "db201415-221d-42e4-a234-d063162275a8",
     "showTitle": false,
     "title": ""
    }
   },
   "outputs": [
    {
     "output_type": "display_data",
     "data": {
      "text/html": [
       "<style scoped>\n",
       "  .table-result-container {\n",
       "    max-height: 300px;\n",
       "    overflow: auto;\n",
       "  }\n",
       "  table, th, td {\n",
       "    border: 1px solid black;\n",
       "    border-collapse: collapse;\n",
       "  }\n",
       "  th, td {\n",
       "    padding: 5px;\n",
       "  }\n",
       "  th {\n",
       "    text-align: left;\n",
       "  }\n",
       "</style><div class='table-result-container'><table class='table-result'><thead style='background-color: white'><tr></tr></thead><tbody></tbody></table></div>"
      ]
     },
     "metadata": {
      "application/vnd.databricks.v1+output": {
       "addedWidgets": {},
       "aggData": [],
       "aggError": "",
       "aggOverflow": false,
       "aggSchema": [],
       "aggSeriesLimitReached": false,
       "aggType": "",
       "arguments": {},
       "columnCustomDisplayInfos": {},
       "data": [],
       "datasetInfos": [],
       "dbfsResultPath": null,
       "isJsonSchema": true,
       "metadata": {
        "dataframeName": null
       },
       "overflow": false,
       "plotOptions": {
        "customPlotOptions": {},
        "displayType": "table",
        "pivotAggregation": null,
        "pivotColumns": null,
        "xColumns": null,
        "yColumns": null
       },
       "removedWidgets": [],
       "schema": [],
       "type": "table"
      }
     },
     "output_type": "display_data"
    }
   ],
   "source": [
    "%sql\n",
    "CREATE TABLE IF NOT EXISTS hackathon_schema.source_table (\n",
    "  id BIGINT GENERATED BY DEFAULT AS IDENTITY,\n",
    "  content STRING\n",
    ") TBLPROPERTIES ('delta.enableChangeDataFeed' = 'true'); "
   ]
  },
  {
   "cell_type": "code",
   "execution_count": 0,
   "metadata": {
    "application/vnd.databricks.v1+cell": {
     "cellMetadata": {
      "byteLimit": 2048000,
      "rowLimit": 10000
     },
     "inputWidgets": {},
     "nuid": "8179b63f-78ef-4a00-ac6c-a18bc132d25c",
     "showTitle": false,
     "title": ""
    }
   },
   "outputs": [
    {
     "output_type": "stream",
     "name": "stdout",
     "output_type": "stream",
     "text": [
      "+---+-------+\n| id|content|\n+---+-------+\n+---+-------+\n\n"
     ]
    }
   ],
   "source": [
    "# verify\n",
    "result = spark.sql(\"SELECT * FROM hackathon_schema.source_table\")\n",
    "result.show()"
   ]
  },
  {
   "cell_type": "markdown",
   "metadata": {
    "application/vnd.databricks.v1+cell": {
     "cellMetadata": {},
     "inputWidgets": {},
     "nuid": "ee972570-85ef-401c-b39a-3878d76483e6",
     "showTitle": false,
     "title": ""
    }
   },
   "source": [
    "Splitting docs"
   ]
  },
  {
   "cell_type": "code",
   "execution_count": 0,
   "metadata": {
    "application/vnd.databricks.v1+cell": {
     "cellMetadata": {
      "byteLimit": 2048000,
      "rowLimit": 10000
     },
     "inputWidgets": {},
     "nuid": "85cbef7c-099d-4a79-928a-aa5e63910db8",
     "showTitle": false,
     "title": ""
    }
   },
   "outputs": [
    {
     "output_type": "stream",
     "name": "stdout",
     "output_type": "stream",
     "text": [
      "                                             content                                           metadata\n0  Tesla's 'apocalypse-proof' Cybertruck thwarted...  {'url': 'https://www.msn.com/en-us/news/techno...\n1  As Elon Musk Abandons the $25K Tesla, This EV ...  {'url': 'https://www.wired.com/story/zhidou-ra...\n2  priced from 31,900 yuan before subsidiesthat's...  {'url': 'https://www.wired.com/story/zhidou-ra...\n3  Rainbow is fitted with a 30-kW 40-horsepower m...  {'url': 'https://www.wired.com/story/zhidou-ra...\n4  millimeters 64.2 inches tall. This is, of cour...  {'url': 'https://www.wired.com/story/zhidou-ra...\n"
     ]
    }
   ],
   "source": [
    "import pandas as pd\n",
    "from langchain.text_splitter import RecursiveCharacterTextSplitter\n",
    "\n",
    "def split_dataframe_into_chunks(df, chunk_size=1000, chunk_overlap=200):\n",
    "    \"\"\"\n",
    "    Splits the text in each row of the DataFrame into chunks, keeping the URL and date as metadata.\n",
    "\n",
    "    Parameters:\n",
    "    - df (pandas.DataFrame): The DataFrame with 'url', 'date', and 'content' columns.\n",
    "    - chunk_size (int): The maximum size of each chunk.\n",
    "    - chunk_overlap (int): The overlap between chunks.\n",
    "\n",
    "    Returns:\n",
    "    - pandas.DataFrame: A new DataFrame with columns 'content' and 'metadata' where metadata is a dictionary containing the 'url' and 'date'.\n",
    "    \"\"\"\n",
    "\n",
    "    text_splitter = RecursiveCharacterTextSplitter(chunk_size=chunk_size, chunk_overlap=chunk_overlap)\n",
    "    chunk_list = []\n",
    "\n",
    "    for _, row in df.iterrows():\n",
    "        url = row['url']\n",
    "        date = row['published_date']\n",
    "        content = row['content']\n",
    "        chunks = text_splitter.create_documents([content], [{\"url\": url, \"published_date\": date}])\n",
    "        for chunk in chunks:\n",
    "            chunk_dict = {\"content\": chunk.page_content, \"metadata\": chunk.metadata}\n",
    "            chunk_list.append(chunk_dict)\n",
    "\n",
    "    return pd.DataFrame(chunk_list)\n",
    "\n",
    "# Apply the function\n",
    "chunked_df = split_dataframe_into_chunks(df)\n",
    "\n",
    "# Display the result\n",
    "print(chunked_df.head())"
   ]
  },
  {
   "cell_type": "code",
   "execution_count": 0,
   "metadata": {
    "application/vnd.databricks.v1+cell": {
     "cellMetadata": {
      "byteLimit": 2048000,
      "rowLimit": 10000
     },
     "inputWidgets": {},
     "nuid": "e935da64-5333-49fb-887d-c10cdd622463",
     "showTitle": false,
     "title": ""
    }
   },
   "outputs": [
    {
     "output_type": "stream",
     "name": "stdout",
     "output_type": "stream",
     "text": [
      "0     {'content': 'Tesla's 'apocalypse-proof' Cybert...\n1     {'content': 'As Elon Musk Abandons the $25K Te...\n2     {'content': 'Longer-Range Tesla Model Y Debuts...\n3     {'content': 'Tesla is facing major competition...\n4     {'content': 'Tesla's Optimus video fub is lead...\n5     {'content': 'Tesla plans to charge some Model ...\n6     {'content': 'Hyundai antes up $1B for AV start...\n7     {'content': 'These are the kinds of San Franci...\n8     {'content': 'Musk just slashed Tesla's Superch...\n9     {'content': 'Is Musk Crazy Smart for Axing Tes...\n10    {'content': 'Can Elon Musk's Tesla keep stradd...\n11    {'content': ''I'm Still in Denial': Tesla Layo...\n12    {'content': 'Have the wheels come off for Tesl...\n13    {'content': '$299 Tesla Model 3 'Too Good' Lea...\n14    {'content': 'Tesla pushes to legalise driverle...\n15    {'content': 'Tesla's Supercharger layoffs coul...\n16    {'content': 'What's happening at Tesla? Here's...\n17    {'content': 'How U.S. safety regulators have s...\n18    {'content': 'He drove his family off a cliff i...\n19    {'content': 'Elimination of Tesla's charging d...\n20    {'content': 'Elon Musk's Tesla overhaul hits e...\n21    {'content': 'Tesla Pullback Puts Onus on Other...\n22    {'content': 'Is Tesla Just a Car Company?. Man...\n23    {'content': 'Tesla retreat from EV charging le...\n24    {'content': 'Tesla tells the EV industry: Fend...\n25    {'content': 'Elon Musk sues Indian battery com...\n26    {'content': 'Tesla v. Tesla?. There won't be a...\n27    {'content': 'Tesla Fires Many on Charger Team,...\n28    {'content': 'Elon Musk's Tesla Turnaround Plan...\n29    {'content': 'Elon Musk Tries to Make Himself I...\nName: content, dtype: object\n"
     ]
    }
   ],
   "source": [
    "# Combine content and metadata into one column as a dict\n",
    "chunked_df['content'] = chunked_df.apply(lambda row: {\"content\": row['content'], \"metadata\": {\"url\": row['url'], \"published_date\": row['published_date']}}, axis=1)\n",
    "chunked_df.drop(columns=['metadata'], inplace=True)\n",
    "print(chunked_df['content'])"
   ]
  },
  {
   "cell_type": "code",
   "execution_count": 0,
   "metadata": {
    "application/vnd.databricks.v1+cell": {
     "cellMetadata": {
      "byteLimit": 2048000,
      "rowLimit": 10000
     },
     "inputWidgets": {},
     "nuid": "76eede18-0834-4968-95d7-e66dc015f256",
     "showTitle": false,
     "title": ""
    }
   },
   "outputs": [
    {
     "output_type": "stream",
     "name": "stdout",
     "output_type": "stream",
     "text": [
      "+---+--------------------+\n| id|             content|\n+---+--------------------+\n|  1|Tesla's 'apocalyp...|\n|  2|As Elon Musk Aban...|\n|  3|priced from 31,90...|\n|  4|Rainbow is fitted...|\n|  5|millimeters 64.2 ...|\n|  6|the 60s, their ti...|\n|  7|revealed by Formu...|\n|  8|and anything else...|\n|  9|effort led by Gee...|\n| 10|attempts to build...|\n+---+--------------------+\n\n"
     ]
    }
   ],
   "source": [
    "# push to the source table\n",
    "spark_df = spark.createDataFrame(chunked_df)\n",
    "\n",
    "# Write data to the articles table\n",
    "spark_df.write.format(\"delta\").mode(\"append\").saveAsTable(\"hackathon_schema.source_table\")\n",
    "\n",
    "# Verify the insertion\n",
    "result = spark.sql(\"SELECT * FROM hackathon_schema.source_table LIMIT 10\")\n",
    "result.show()"
   ]
  },
  {
   "cell_type": "markdown",
   "metadata": {
    "application/vnd.databricks.v1+cell": {
     "cellMetadata": {},
     "inputWidgets": {},
     "nuid": "a32a175f-d0fd-433b-bd4f-b53def2b562d",
     "showTitle": false,
     "title": ""
    }
   },
   "source": [
    "Create Vector Index"
   ]
  },
  {
   "cell_type": "code",
   "execution_count": 0,
   "metadata": {
    "application/vnd.databricks.v1+cell": {
     "cellMetadata": {
      "byteLimit": 2048000,
      "rowLimit": 10000
     },
     "inputWidgets": {},
     "nuid": "befb23c6-e08b-4311-b39f-90d5001d0d14",
     "showTitle": false,
     "title": ""
    }
   },
   "outputs": [
    {
     "output_type": "stream",
     "name": "stdout",
     "output_type": "stream",
     "text": [
      "[NOTICE] Using a notebook authentication token. Recommended for development only. For improved performance, please use Service Principal based authentication. To disable this message, pass disable_notice=True to VectorSearchClient().\nEndpoint named hackathon_vs_endpoint is ready.\n"
     ]
    }
   ],
   "source": [
    "# create vs endpoint\n",
    "from databricks.vector_search.client import VectorSearchClient\n",
    "vsc = VectorSearchClient()\n",
    "\n",
    "VECTOR_SEARCH_ENDPOINT_NAME = \"hackathon_vs_endpoint\"\n",
    "vsc.create_endpoint(name=VECTOR_SEARCH_ENDPOINT_NAME, endpoint_type=\"STANDARD\")\n",
    "print(f\"Endpoint named {VECTOR_SEARCH_ENDPOINT_NAME} is ready.\")"
   ]
  },
  {
   "cell_type": "code",
   "execution_count": 0,
   "metadata": {
    "application/vnd.databricks.v1+cell": {
     "cellMetadata": {
      "byteLimit": 2048000,
      "rowLimit": 10000
     },
     "inputWidgets": {},
     "nuid": "26f72e12-a3a9-4696-aef2-5031f76d1dd8",
     "showTitle": false,
     "title": ""
    }
   },
   "outputs": [],
   "source": [
    "# create index\n",
    "index = vsc.create_delta_sync_index(\n",
    "    endpoint_name=\"hackathon_vs_endpoint\",\n",
    "    index_name=\"my_test_workspace.hackathon_schema.vs_index\",\n",
    "    source_table_name=\"my_test_workspace.hackathon_schema.source_table\",\n",
    "    pipeline_type=\"CONTINUOUS\",\n",
    "    primary_key=\"id\",\n",
    "    embedding_source_column='content',\n",
    "    embedding_model_endpoint_name=\"databricks-bge-large-en\"\n",
    ")"
   ]
  },
  {
   "cell_type": "code",
   "execution_count": 0,
   "metadata": {
    "application/vnd.databricks.v1+cell": {
     "cellMetadata": {
      "byteLimit": 2048000,
      "rowLimit": 10000
     },
     "inputWidgets": {},
     "nuid": "93e52640-83e0-462a-ae83-8ebc801ebad5",
     "showTitle": false,
     "title": ""
    }
   },
   "outputs": [],
   "source": [
    "# retrieve the index\n",
    "index = vsc.get_index(\n",
    "    endpoint_name=\"hackathon_vs_endpoint\",\n",
    "    index_name=\"my_test_workspace.hackathon_schema.vs_index\"\n",
    ")"
   ]
  },
  {
   "cell_type": "code",
   "execution_count": 0,
   "metadata": {
    "application/vnd.databricks.v1+cell": {
     "cellMetadata": {
      "byteLimit": 2048000,
      "rowLimit": 10000
     },
     "inputWidgets": {},
     "nuid": "3b09c2eb-0f92-4518-8245-90705d27512c",
     "showTitle": false,
     "title": ""
    }
   },
   "outputs": [
    {
     "output_type": "stream",
     "name": "stderr",
     "output_type": "stream",
     "text": [
      "WARNING:langchain_community.vectorstores.databricks_vector_search:embedding model is not used in delta-sync index with Databricks-managed embeddings.\n"
     ]
    },
    {
     "output_type": "stream",
     "name": "stdout",
     "output_type": "stream",
     "text": [
      "Tesla has announced plans to cut more than 10% of its global workforce, which would affect around 14,000 employees. This week, Tesla let go about 500 employees on its EV Supercharger team. Additionally, some offers of summer internships have been revoked. These layoffs come after Tesla reported the largest quarterly revenue drop in more than a decade and a 20% decrease in EV deliveries in the January-March period compared to the previous quarter. Despite these challenges, Tesla remains committed to reducing costs and increasing efficiency.\n"
     ]
    }
   ],
   "source": [
    "from langchain.chains import RetrievalQA\n",
    "from langchain.prompts import PromptTemplate\n",
    "from langchain_community.chat_models import ChatDatabricks\n",
    "from databricks.vector_search.client import VectorSearchClient\n",
    "from langchain_community.vectorstores import DatabricksVectorSearch\n",
    "from langchain_community.embeddings import DatabricksEmbeddings\n",
    "\n",
    "embedding_model = DatabricksEmbeddings(endpoint=\"databricks-bge-large-en\")\n",
    "\n",
    "# Create the retriever\n",
    "vectorstore = DatabricksVectorSearch(index, text_column=\"content\", embedding=embedding_model).as_retriever()\n",
    "\n",
    "chat_model = ChatDatabricks(endpoint=\"databricks-dbrx-instruct\", max_tokens = 1000)\n",
    "\n",
    "TEMPLATE = \"\"\"You are a helpful assistant.\n",
    "{context}\n",
    "Question: {question}\n",
    "Answer:\n",
    "\"\"\"\n",
    "prompt = PromptTemplate(template=TEMPLATE, input_variables=[\"context\", \"question\"])\n",
    "\n",
    "chain = RetrievalQA.from_chain_type(\n",
    "    llm=chat_model,\n",
    "    chain_type=\"stuff\",\n",
    "    retriever=vectorstore,\n",
    "    chain_type_kwargs={\"prompt\": prompt}\n",
    ")\n",
    "\n",
    "question = {\"query\": \"What's going on with layoffs at Tesla?\"}\n",
    "answer = chain.run(question)\n",
    "print(answer)"
   ]
  },
  {
   "cell_type": "code",
   "execution_count": 0,
   "metadata": {
    "application/vnd.databricks.v1+cell": {
     "cellMetadata": {
      "byteLimit": 2048000,
      "rowLimit": 10000
     },
     "inputWidgets": {},
     "nuid": "b91919ff-9012-4edf-9a43-479da3e0d70c",
     "showTitle": false,
     "title": ""
    }
   },
   "outputs": [
    {
     "output_type": "execute_result",
     "data": {
      "text/plain": [
       "DataFrame[]"
      ]
     },
     "execution_count": 31,
     "metadata": {},
     "output_type": "execute_result"
    }
   ],
   "source": [
    "# Truncate the table\n",
    "#spark.sql(\"TRUNCATE TABLE hackathon_schema.users\")\n",
    "#spark.sql(\"TRUNCATE TABLE hackathon_schema.articles\")\n",
    "\n",
    "#spark.sql(\"DROP TABLE IF EXISTS hackathon_schema.source_table\")"
   ]
  }
 ],
 "metadata": {
  "application/vnd.databricks.v1+notebook": {
   "dashboards": [],
   "language": "python",
   "notebookMetadata": {
    "mostRecentlyExecutedCommandWithImplicitDF": {
     "commandId": 4237095100109760,
     "dataframes": [
      "_sqldf"
     ]
    },
    "pythonIndentUnit": 4
   },
   "notebookName": "03. RAG",
   "widgets": {}
  }
 },
 "nbformat": 4,
 "nbformat_minor": 0
}
